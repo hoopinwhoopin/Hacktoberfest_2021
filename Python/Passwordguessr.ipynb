{
 "cells": [
  {
   "cell_type": "code",
   "execution_count": 2,
   "id": "c92ea289",
   "metadata": {},
   "outputs": [
    {
     "name": "stdout",
     "output_type": "stream",
     "text": [
      "Please enter your password: password\n",
      "You have successfully logged in.\n"
     ]
    }
   ],
   "source": [
    "\n",
    "  guess_count = 0\n",
    "\n",
    "  correct_pass = 'password'\n",
    "\n",
    "  pass_guess = str(input(\"Please enter your password: \"))\n",
    "  guess_count += 1\n",
    "\n",
    "  while True:\n",
    "      if pass_guess == correct_pass:\n",
    "          guess_count += 1\n",
    "          print('You have successfully logged in.')\n",
    "          break\n",
    "\n",
    "      elif pass_guess != correct_pass:\n",
    "          if guess_count < 3:\n",
    "              guess_count += 1\n",
    "              str(input(\"Wrong password. Try again. \"))\n",
    "          elif guess_count >= 3:\n",
    "              print(\"You have been denied access.\")\n",
    "              break\n",
    "            "
   ]
  },
  {
   "cell_type": "code",
   "execution_count": null,
   "id": "f9dc000d",
   "metadata": {},
   "outputs": [],
   "source": []
  }
 ],
 "metadata": {
  "kernelspec": {
   "display_name": "Python 3",
   "language": "python",
   "name": "python3"
  },
  "language_info": {
   "codemirror_mode": {
    "name": "ipython",
    "version": 3
   },
   "file_extension": ".py",
   "mimetype": "text/x-python",
   "name": "python",
   "nbconvert_exporter": "python",
   "pygments_lexer": "ipython3",
   "version": "3.8.8"
  }
 },
 "nbformat": 4,
 "nbformat_minor": 5
}
